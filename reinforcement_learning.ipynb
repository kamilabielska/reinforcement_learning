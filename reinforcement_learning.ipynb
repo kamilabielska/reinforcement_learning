{
  "cells": [
    {
      "cell_type": "code",
      "execution_count": 1,
      "metadata": {
        "id": "6LQB0zy258v5"
      },
      "outputs": [],
      "source": [
        "%%capture\n",
        "!sudo apt-get install -q -y xvfb ffmpeg freeglut3-dev\n",
        "!pip install tf-agents[reverb]\n",
        "!pip install gym\n",
        "!pip install gym[atari]\n",
        "!pip install gym[accept-rom-license]"
      ]
    },
    {
      "cell_type": "code",
      "execution_count": 1,
      "metadata": {
        "id": "Y2HRV4VOR5sr"
      },
      "outputs": [],
      "source": [
        "import numpy as np\n",
        "import tensorflow as tf\n",
        "import matplotlib.pyplot as plt\n",
        "import PIL\n",
        "import IPython\n",
        "import imageio\n",
        "import gym\n",
        "\n",
        "from tf_agents.environments import suite_gym, tf_py_environment\n",
        "from tf_agents.environments.atari_preprocessing import AtariPreprocessing\n",
        "from tf_agents.environments.atari_wrappers import FrameStack4, AtariTimeLimit\n",
        "from tf_agents.agents.dqn import dqn_agent\n",
        "from tf_agents.specs import tensor_spec\n",
        "from tf_agents.networks import sequential\n",
        "from tf_agents.policies import random_tf_policy\n",
        "from tf_agents.replay_buffers import tf_uniform_replay_buffer\n",
        "from tf_agents.drivers.dynamic_step_driver import DynamicStepDriver\n",
        "from tf_agents.metrics import tf_metrics\n",
        "from tf_agents.utils import common"
      ]
    },
    {
      "cell_type": "code",
      "execution_count": 24,
      "metadata": {
        "id": "wmYRgNFhRvnQ"
      },
      "outputs": [],
      "source": [
        "num_iterations = 80000\n",
        "\n",
        "initial_collect_steps = 500\n",
        "collect_steps_per_iteration = 1\n",
        "replay_buffer_max_length = 100000\n",
        "\n",
        "batch_size = 64\n",
        "learning_rate = 1e-3\n",
        "\n",
        "log_interval = 1000\n",
        "eval_interval = 1000"
      ]
    },
    {
      "cell_type": "markdown",
      "source": [
        "# create environment"
      ],
      "metadata": {
        "id": "06eAypSyQj9Z"
      }
    },
    {
      "cell_type": "code",
      "execution_count": 25,
      "metadata": {
        "id": "0Tv2kp_XZmVc"
      },
      "outputs": [],
      "source": [
        "env_ids = [env_spec.id for env_spec in gym.envs.registry.all()]\n",
        "all_env_ids = sorted(env_ids)"
      ]
    },
    {
      "cell_type": "code",
      "execution_count": 26,
      "metadata": {
        "id": "VimmAnZx19hM"
      },
      "outputs": [],
      "source": [
        "env_name = 'ALE/Freeway-v5'\n",
        "max_episode_steps = 27000\n",
        "\n",
        "train_py_env = suite_gym.wrap_env(\n",
        "    gym.make(env_name, frameskip=1),\n",
        "    max_episode_steps=max_episode_steps,\n",
        "    gym_env_wrappers=[AtariPreprocessing, FrameStack4],\n",
        "    time_limit_wrapper=AtariTimeLimit\n",
        ")\n",
        "eval_py_env = suite_gym.wrap_env(\n",
        "    gym.make(env_name, frameskip=1),\n",
        "    max_episode_steps=max_episode_steps,\n",
        "    gym_env_wrappers=[AtariPreprocessing, FrameStack4],\n",
        "    time_limit_wrapper=AtariTimeLimit\n",
        ")"
      ]
    },
    {
      "cell_type": "code",
      "execution_count": 27,
      "metadata": {
        "id": "AtFDhsfYe9Hu"
      },
      "outputs": [],
      "source": [
        "train_env = tf_py_environment.TFPyEnvironment(train_py_env)\n",
        "eval_env = tf_py_environment.TFPyEnvironment(eval_py_env)"
      ]
    },
    {
      "cell_type": "code",
      "source": [
        "train_py_env.reset()\n",
        "PIL.Image.fromarray(train_py_env.render())"
      ],
      "metadata": {
        "colab": {
          "base_uri": "https://localhost:8080/",
          "height": 227
        },
        "id": "HiLKiso1XMAU",
        "outputId": "1f0b2392-3fb1-4dd8-ee34-be0ba0247ecf"
      },
      "execution_count": 28,
      "outputs": [
        {
          "output_type": "execute_result",
          "data": {
            "text/plain": [
              "<PIL.Image.Image image mode=RGB size=160x210>"
            ],
            "image/png": "[encoded data removed]"
          },
          "metadata": {},
          "execution_count": 28
        }
      ]
    },
    {
      "cell_type": "code",
      "source": [
        "train_py_env.action_spec()"
      ],
      "metadata": {
        "colab": {
          "base_uri": "https://localhost:8080/"
        },
        "id": "8csT3TmZXghB",
        "outputId": "d7358775-4cf6-43aa-d3c6-0c8106f53593"
      },
      "execution_count": 29,
      "outputs": [
        {
          "output_type": "execute_result",
          "data": {
            "text/plain": [
              "BoundedArraySpec(shape=(), dtype=dtype('int64'), name='action', minimum=0, maximum=2)"
            ]
          },
          "metadata": {},
          "execution_count": 29
        }
      ]
    },
    {
      "cell_type": "markdown",
      "metadata": {
        "id": "q2Zp7ckahED5"
      },
      "source": [
        "# define DQN agent"
      ]
    },
    {
      "cell_type": "code",
      "execution_count": 30,
      "metadata": {
        "id": "Gvh_xWvZ7yGQ"
      },
      "outputs": [],
      "source": [
        "action_tensor_spec = tensor_spec.from_spec(train_env.action_spec())\n",
        "num_actions = action_tensor_spec.maximum - action_tensor_spec.minimum + 1\n",
        "\n",
        "conv_kwargs = dict(\n",
        "    kernel_size=3,\n",
        "    padding='same',\n",
        "    kernel_initializer='he_normal',\n",
        "    activation='relu'\n",
        ")\n",
        "\n",
        "q_net = sequential.Sequential([\n",
        "    tf.keras.layers.Rescaling(scale=1./255),\n",
        "    tf.keras.layers.Conv2D(32, **conv_kwargs),\n",
        "    tf.keras.layers.MaxPooling2D(),\n",
        "    tf.keras.layers.Conv2D(64, **conv_kwargs),\n",
        "    tf.keras.layers.MaxPooling2D(),\n",
        "    tf.keras.layers.Conv2D(128, **conv_kwargs),\n",
        "    tf.keras.layers.GlobalMaxPooling2D(),\n",
        "    tf.keras.layers.Dense(num_actions)\n",
        "])"
      ]
    },
    {
      "cell_type": "code",
      "execution_count": 31,
      "metadata": {
        "id": "qf4cMV_Riqej"
      },
      "outputs": [],
      "source": [
        "optimizer = tf.keras.optimizers.Adam(learning_rate=learning_rate)\n",
        "epsilon_fn = tf.keras.optimizers.schedules.PolynomialDecay(\n",
        "    initial_learning_rate=0.7,\n",
        "    decay_steps=num_iterations//3//collect_steps_per_iteration,\n",
        "    end_learning_rate=0.01)\n",
        "train_step_counter = tf.Variable(0)\n",
        "\n",
        "agent = dqn_agent.DqnAgent(\n",
        "    train_env.time_step_spec(),\n",
        "    train_env.action_spec(),\n",
        "    q_network=q_net,\n",
        "    optimizer=optimizer,\n",
        "    train_step_counter=train_step_counter,\n",
        "    epsilon_greedy=lambda: epsilon_fn(train_step_counter)\n",
        ")\n",
        "\n",
        "agent.initialize()"
      ]
    },
    {
      "cell_type": "markdown",
      "metadata": {
        "id": "BTM5X4C4tUJE"
      },
      "source": [
        "# policy"
      ]
    },
    {
      "cell_type": "code",
      "execution_count": 32,
      "metadata": {
        "id": "Ze6jlU1Dmp6H"
      },
      "outputs": [],
      "source": [
        "eval_policy = agent.policy\n",
        "collect_policy = agent.collect_policy"
      ]
    },
    {
      "cell_type": "code",
      "execution_count": 33,
      "metadata": {
        "id": "XviZ0zE_shdX"
      },
      "outputs": [],
      "source": [
        "random_policy = random_tf_policy.RandomTFPolicy(\n",
        "    train_env.time_step_spec(),\n",
        "    train_env.action_spec()\n",
        ")"
      ]
    },
    {
      "cell_type": "markdown",
      "metadata": {
        "id": "djoy66bOtWke"
      },
      "source": [
        "# replay buffer"
      ]
    },
    {
      "cell_type": "code",
      "execution_count": 34,
      "metadata": {
        "id": "jC0O0H4UU6Hb"
      },
      "outputs": [],
      "source": [
        "replay_buffer = tf_uniform_replay_buffer.TFUniformReplayBuffer(\n",
        "    data_spec=agent.collect_data_spec,\n",
        "    batch_size=train_env.batch_size,\n",
        "    max_length=replay_buffer_max_length\n",
        ")"
      ]
    },
    {
      "cell_type": "code",
      "execution_count": 35,
      "metadata": {
        "id": "f49hZ-ATVGuz"
      },
      "outputs": [],
      "source": [
        "rb_observer = replay_buffer.add_batch\n",
        "avg_return = tf_metrics.AverageReturnMetric()"
      ]
    },
    {
      "cell_type": "code",
      "execution_count": 36,
      "metadata": {
        "id": "XUDejDagQ5sx"
      },
      "outputs": [],
      "source": [
        "_ = DynamicStepDriver(\n",
        "    train_env,\n",
        "    random_policy,\n",
        "    [rb_observer, avg_return],\n",
        "    num_steps=initial_collect_steps\n",
        ").run()"
      ]
    },
    {
      "cell_type": "code",
      "execution_count": 37,
      "metadata": {
        "colab": {
          "base_uri": "https://localhost:8080/"
        },
        "id": "zH3tijYSWVJG",
        "outputId": "8ff4d40a-9cc2-4608-e302-a044c3f33885"
      },
      "outputs": [
        {
          "output_type": "execute_result",
          "data": {
            "text/plain": [
              "0.0"
            ]
          },
          "metadata": {},
          "execution_count": 37
        }
      ],
      "source": [
        "avg_return.result().numpy()"
      ]
    },
    {
      "cell_type": "code",
      "execution_count": 38,
      "metadata": {
        "id": "s5sEgF4JuRzQ"
      },
      "outputs": [],
      "source": [
        "dataset = replay_buffer.as_dataset(\n",
        "    num_parallel_calls=3,\n",
        "    sample_batch_size=batch_size,\n",
        "    num_steps=2,\n",
        "    single_deterministic_pass=False\n",
        ").prefetch(3)"
      ]
    },
    {
      "cell_type": "code",
      "execution_count": 39,
      "metadata": {
        "id": "7cRl6JjXvOBh"
      },
      "outputs": [],
      "source": [
        "iterator = iter(dataset)"
      ]
    },
    {
      "cell_type": "markdown",
      "metadata": {
        "id": "NxLrLcdmu5pD"
      },
      "source": [
        "# train"
      ]
    },
    {
      "cell_type": "code",
      "execution_count": 40,
      "metadata": {
        "id": "L6EQsqSxu-2C"
      },
      "outputs": [],
      "source": [
        "agent.train = common.function(agent.train)\n",
        "agent.train_step_counter.assign(0)\n",
        "\n",
        "collect_driver = DynamicStepDriver(\n",
        "    train_env,\n",
        "    agent.collect_policy,\n",
        "    [rb_observer, avg_return],\n",
        "    num_steps=collect_steps_per_iteration\n",
        ")\n",
        "collect_driver.run = common.function(collect_driver.run)"
      ]
    },
    {
      "cell_type": "code",
      "execution_count": null,
      "metadata": {
        "id": "M7pV_3r6ukKu"
      },
      "outputs": [],
      "source": [
        "returns = []\n",
        "time_step = train_env.reset()\n",
        "\n",
        "for _ in range(num_iterations):\n",
        "    time_step, _ = collect_driver.run(time_step)\n",
        "\n",
        "    experience, unused_info = next(iterator)\n",
        "    train_loss = agent.train(experience).loss\n",
        "\n",
        "    step = agent.train_step_counter.numpy()\n",
        "\n",
        "    if step % log_interval == 0:\n",
        "        print('step = {0}: loss = {1}'.format(step, train_loss))\n",
        "\n",
        "    if step % eval_interval == 0:\n",
        "        avgr = avg_return.result().numpy()\n",
        "        print('step = {0}: average return = {1}'.format(step, avgr))\n",
        "        returns.append(avgr)"
      ]
    },
    {
      "cell_type": "code",
      "source": [
        "avg_return.result().numpy()"
      ],
      "metadata": {
        "colab": {
          "base_uri": "https://localhost:8080/"
        },
        "id": "zGztxgu-kFwu",
        "outputId": "37b36b2d-000f-48a8-c721-7a426d6db5a5"
      },
      "execution_count": 42,
      "outputs": [
        {
          "output_type": "execute_result",
          "data": {
            "text/plain": [
              "16.8"
            ]
          },
          "metadata": {},
          "execution_count": 42
        }
      ]
    },
    {
      "cell_type": "code",
      "execution_count": 43,
      "metadata": {
        "colab": {
          "base_uri": "https://localhost:8080/",
          "height": 449
        },
        "id": "VPkd_NKY4Z_e",
        "outputId": "f29656a8-bb85-4cc7-ca07-43fc80fa0603"
      },
      "outputs": [
        {
          "output_type": "display_data",
          "data": {
            "text/plain": [
              "<Figure size 640x480 with 1 Axes>"
            ],
            "image/png": "[encoded data removed]"
          },
          "metadata": {}
        }
      ],
      "source": [
        "iterations = range(0, num_iterations, eval_interval)\n",
        "plt.plot(iterations, returns)\n",
        "plt.ylabel('Average Return')\n",
        "plt.xlabel('Iterations');"
      ]
    },
    {
      "cell_type": "markdown",
      "source": [
        "# watch the agent play"
      ],
      "metadata": {
        "id": "bfTx49lHR9vD"
      }
    },
    {
      "cell_type": "code",
      "execution_count": 53,
      "metadata": {
        "id": "gmrwF48PyVw8"
      },
      "outputs": [],
      "source": [
        "def create_policy_eval_gif(policy, filename, num_episodes=1, fps=30):\n",
        "    filename = filename + '.gif'\n",
        "    with imageio.get_writer(filename, fps=fps) as video:\n",
        "        for _ in range(num_episodes):\n",
        "            time_step = eval_env.reset()\n",
        "            video.append_data(eval_env.render().numpy().squeeze())\n",
        "            while not time_step.is_last():\n",
        "                action_step = policy.action(time_step)\n",
        "                time_step = eval_env.step(action_step.action)\n",
        "                video.append_data(eval_env.render().numpy().squeeze())"
      ]
    },
    {
      "cell_type": "code",
      "execution_count": 54,
      "metadata": {
        "id": "hddDoUebycfZ"
      },
      "outputs": [],
      "source": [
        "create_policy_eval_gif(agent.policy, 'trained_agent')"
      ]
    },
    {
      "cell_type": "code",
      "execution_count": null,
      "metadata": {
        "id": "_vfX_SN-4lZV"
      },
      "outputs": [],
      "source": []
    }
  ],
  "metadata": {
    "accelerator": "GPU",
    "colab": {
      "provenance": [],
      "gpuType": "T4"
    },
    "kernelspec": {
      "display_name": "Python 3",
      "name": "python3"
    },
    "language_info": {
      "name": "python"
    }
  },
  "nbformat": 4,
  "nbformat_minor": 0
}